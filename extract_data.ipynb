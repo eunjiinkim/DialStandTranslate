{
 "cells": [
  {
   "cell_type": "code",
   "execution_count": 1,
   "id": "513f5a3f",
   "metadata": {},
   "outputs": [],
   "source": [
    "import glob\n",
    "import json\n",
    "from tqdm import tqdm\n",
    "import pandas as pd\n",
    "import os"
   ]
  },
  {
   "cell_type": "code",
   "execution_count": 2,
   "id": "4793c92f",
   "metadata": {},
   "outputs": [],
   "source": [
    "regions = ['chungcheong','jeju','jeonla','kangwon','kyeongsang']"
   ]
  },
  {
   "cell_type": "code",
   "execution_count": 3,
   "id": "e4d4ce2a",
   "metadata": {},
   "outputs": [],
   "source": [
    "files = glob.glob('data/'+regions[-1]+'/*.zip')\n",
    "files.sort()"
   ]
  },
  {
   "cell_type": "code",
   "execution_count": 4,
   "id": "57f8958c",
   "metadata": {},
   "outputs": [
    {
     "data": {
      "text/plain": [
       "['data/kyeongsang/[라벨]경상도_학습데이터_1.zip',\n",
       " 'data/kyeongsang/[라벨]경상도_학습데이터_2.zip']"
      ]
     },
     "execution_count": 4,
     "metadata": {},
     "output_type": "execute_result"
    }
   ],
   "source": [
    "files"
   ]
  },
  {
   "cell_type": "code",
   "execution_count": 1,
   "id": "0ffa20b9",
   "metadata": {},
   "outputs": [],
   "source": [
    "#!unzip -d data/kyeongsang/train data/kyeongsang/[라벨]경상도_학습데이터_1.zip\n",
    "#!unzip -d data/kyeongsang/test data/kyeongsang/[라벨]경상도_학습데이터_2.zip"
   ]
  },
  {
   "cell_type": "markdown",
   "id": "8f71ead7",
   "metadata": {},
   "source": [
    "## json to df"
   ]
  },
  {
   "cell_type": "code",
   "execution_count": 2,
   "id": "9b6ea235",
   "metadata": {},
   "outputs": [],
   "source": [
    "def get_lst(filename):\n",
    "    try:\n",
    "        with open(filename,'r',encoding='utf-8-sig') as f:\n",
    "            data=json.load(f)\n",
    "        f.close()\n",
    "    except:\n",
    "        print(filename)\n",
    "    standard = []\n",
    "    dialect = []\n",
    "    mp_d = []\n",
    "    mp_s = []\n",
    "    mp_idx = []\n",
    "    for d in data['utterance']:\n",
    "        # 다른 형태만 가져옴\n",
    "        if d['standard_form'] != d['dialect_form']:\n",
    "            standard.append(d['standard_form'])\n",
    "            dialect.append(d['dialect_form'])\n",
    "            tmp = []\n",
    "            tmp2 = []\n",
    "            tmp3 = []\n",
    "            for el in d['eojeolList']:\n",
    "                if el['isDialect']:\n",
    "                    tmp.append(el['eojeol'])\n",
    "                    tmp2.append(el['standard'])\n",
    "                    tmp3.append(el['id'])\n",
    "            mp_d.append('_'.join(tmp))\n",
    "            mp_s.append('_'.join(tmp2))\n",
    "            mp_idx.append(' '.join([str(t) for t in tmp3]))\n",
    "    return standard, dialect, mp_d, mp_s, mp_idx"
   ]
  },
  {
   "cell_type": "code",
   "execution_count": 3,
   "id": "e3a4d874",
   "metadata": {},
   "outputs": [],
   "source": [
    "def extract_df(file_path, reg, tp):\n",
    "    standard_lst, dial_lst, mp_d_lst, mp_s_lst, mp_idx_lst = [], [], [], [], []\n",
    "    for fn in tqdm(file_path):\n",
    "        try:\n",
    "            standard, dialect, mp_d, mp_s, mp_idx = get_lst(fn)\n",
    "        except:\n",
    "            pass\n",
    "        standard_lst+=standard\n",
    "        dial_lst+=dialect\n",
    "        mp_d_lst+=mp_d\n",
    "        mp_s_lst+=mp_s\n",
    "        mp_idx_lst+=mp_idx\n",
    "\n",
    "    df=pd.DataFrame(columns=['standard','dialect','mp_d','mp_s','mp_idx'])\n",
    "    df['standard'] = standard_lst\n",
    "    df['dialect'] = dial_lst\n",
    "    df['mp_d'] = mp_d_lst\n",
    "    df['mp_s'] = mp_s_lst\n",
    "    df['mp_idx'] = mp_idx_lst\n",
    "    save_path = 'data/{}/{}/{}_data.tsv'.format(reg,tp,tp)\n",
    "    df.to_csv(save_path,index=False,sep='\\t')\n",
    "    print('saved in {}'.format(save_path))\n",
    "    "
   ]
  },
  {
   "cell_type": "code",
   "execution_count": 29,
   "id": "bf2b250c",
   "metadata": {},
   "outputs": [],
   "source": [
    "regions = ['jeju','jeonla','kangwon','kyeongsang' , 'chungcheong']\n",
    "types= ['train','test']"
   ]
  },
  {
   "cell_type": "code",
   "execution_count": 30,
   "id": "9b5cece7",
   "metadata": {},
   "outputs": [
    {
     "name": "stderr",
     "output_type": "stream",
     "text": [
      "  0%|          | 2/5042 [00:00<04:49, 17.39it/s]"
     ]
    },
    {
     "name": "stdout",
     "output_type": "stream",
     "text": [
      "jeju train\n"
     ]
    },
    {
     "name": "stderr",
     "output_type": "stream",
     "text": [
      "100%|██████████| 5042/5042 [02:16<00:00, 37.05it/s]\n",
      "  2%|▏         | 9/596 [00:00<00:07, 81.53it/s]"
     ]
    },
    {
     "name": "stdout",
     "output_type": "stream",
     "text": [
      "saved in data/jeju/train/train_data.tsv\n",
      "jeju test\n"
     ]
    },
    {
     "name": "stderr",
     "output_type": "stream",
     "text": [
      "100%|██████████| 596/596 [00:04<00:00, 127.04it/s]\n",
      "  0%|          | 0/7412 [00:00<?, ?it/s]"
     ]
    },
    {
     "name": "stdout",
     "output_type": "stream",
     "text": [
      "saved in data/jeju/test/test_data.tsv\n",
      "jeonla train\n"
     ]
    },
    {
     "name": "stderr",
     "output_type": "stream",
     "text": [
      "100%|██████████| 7412/7412 [02:00<00:00, 61.28it/s]\n",
      "  0%|          | 4/994 [00:00<00:29, 33.24it/s]"
     ]
    },
    {
     "name": "stdout",
     "output_type": "stream",
     "text": [
      "saved in data/jeonla/train/train_data.tsv\n",
      "jeonla test\n"
     ]
    },
    {
     "name": "stderr",
     "output_type": "stream",
     "text": [
      "100%|██████████| 994/994 [00:16<00:00, 60.26it/s]\n",
      "  0%|          | 6/4717 [00:00<01:24, 56.03it/s]"
     ]
    },
    {
     "name": "stdout",
     "output_type": "stream",
     "text": [
      "saved in data/jeonla/test/test_data.tsv\n",
      "kangwon train\n"
     ]
    },
    {
     "name": "stderr",
     "output_type": "stream",
     "text": [
      "100%|██████████| 4717/4717 [01:19<00:00, 59.09it/s]\n",
      "  0%|          | 4/828 [00:00<00:21, 38.20it/s]"
     ]
    },
    {
     "name": "stdout",
     "output_type": "stream",
     "text": [
      "saved in data/kangwon/train/train_data.tsv\n",
      "kangwon test\n"
     ]
    },
    {
     "name": "stderr",
     "output_type": "stream",
     "text": [
      "100%|██████████| 828/828 [00:17<00:00, 48.60it/s]\n",
      "  0%|          | 14/7699 [00:00<00:56, 135.10it/s]"
     ]
    },
    {
     "name": "stdout",
     "output_type": "stream",
     "text": [
      "saved in data/kangwon/test/test_data.tsv\n",
      "kyeongsang train\n"
     ]
    },
    {
     "name": "stderr",
     "output_type": "stream",
     "text": [
      "100%|██████████| 7699/7699 [00:56<00:00, 136.51it/s]\n",
      "  0%|          | 0/843 [00:00<?, ?it/s]"
     ]
    },
    {
     "name": "stdout",
     "output_type": "stream",
     "text": [
      "saved in data/kyeongsang/train/train_data.tsv\n",
      "kyeongsang test\n"
     ]
    },
    {
     "name": "stderr",
     "output_type": "stream",
     "text": [
      "100%|██████████| 843/843 [00:05<00:00, 142.49it/s]\n",
      "  0%|          | 18/6048 [00:00<00:34, 176.18it/s]"
     ]
    },
    {
     "name": "stdout",
     "output_type": "stream",
     "text": [
      "saved in data/kyeongsang/test/test_data.tsv\n",
      "chungcheong train\n"
     ]
    },
    {
     "name": "stderr",
     "output_type": "stream",
     "text": [
      " 15%|█▌        | 933/6048 [00:05<00:30, 166.72it/s]"
     ]
    },
    {
     "name": "stdout",
     "output_type": "stream",
     "text": [
      "data/chungcheong/train/DCNA20000088.json\n",
      "data/chungcheong/train/DCNA20000274.json\n"
     ]
    },
    {
     "name": "stderr",
     "output_type": "stream",
     "text": [
      " 40%|███▉      | 2397/6048 [00:15<00:24, 148.76it/s]"
     ]
    },
    {
     "name": "stdout",
     "output_type": "stream",
     "text": [
      "data/chungcheong/train/DCNA20000292.json\n"
     ]
    },
    {
     "name": "stderr",
     "output_type": "stream",
     "text": [
      " 46%|████▋     | 2800/6048 [00:18<00:26, 122.65it/s]"
     ]
    },
    {
     "name": "stdout",
     "output_type": "stream",
     "text": [
      "data/chungcheong/train/DCNA20000040.json\n"
     ]
    },
    {
     "name": "stderr",
     "output_type": "stream",
     "text": [
      " 55%|█████▌    | 3336/6048 [00:22<00:20, 135.41it/s]"
     ]
    },
    {
     "name": "stdout",
     "output_type": "stream",
     "text": [
      "data/chungcheong/train/DCNA20000169.json\n"
     ]
    },
    {
     "name": "stderr",
     "output_type": "stream",
     "text": [
      " 58%|█████▊    | 3502/6048 [00:23<00:14, 178.12it/s]"
     ]
    },
    {
     "name": "stdout",
     "output_type": "stream",
     "text": [
      "data/chungcheong/train/DCNA20000213.json\n"
     ]
    },
    {
     "name": "stderr",
     "output_type": "stream",
     "text": [
      " 62%|██████▏   | 3764/6048 [00:25<00:17, 130.19it/s]"
     ]
    },
    {
     "name": "stdout",
     "output_type": "stream",
     "text": [
      "data/chungcheong/train/DCNA20000094.json\n"
     ]
    },
    {
     "name": "stderr",
     "output_type": "stream",
     "text": [
      " 63%|██████▎   | 3814/6048 [00:25<00:15, 145.83it/s]"
     ]
    },
    {
     "name": "stdout",
     "output_type": "stream",
     "text": [
      "data/chungcheong/train/DCNA20000098.json\n"
     ]
    },
    {
     "name": "stderr",
     "output_type": "stream",
     "text": [
      " 64%|██████▍   | 3888/6048 [00:25<00:13, 158.77it/s]"
     ]
    },
    {
     "name": "stdout",
     "output_type": "stream",
     "text": [
      "data/chungcheong/train/DCNA20000290.json\n"
     ]
    },
    {
     "name": "stderr",
     "output_type": "stream",
     "text": [
      " 69%|██████▊   | 4147/6048 [00:28<00:16, 117.41it/s]"
     ]
    },
    {
     "name": "stdout",
     "output_type": "stream",
     "text": [
      "data/chungcheong/train/DCNA20000346.json\n",
      "data/chungcheong/train/DCNA20000260.json\n"
     ]
    },
    {
     "name": "stderr",
     "output_type": "stream",
     "text": [
      " 71%|███████   | 4272/6048 [00:28<00:10, 167.66it/s]"
     ]
    },
    {
     "name": "stdout",
     "output_type": "stream",
     "text": [
      "data/chungcheong/train/DCNA20000142.json\n"
     ]
    },
    {
     "name": "stderr",
     "output_type": "stream",
     "text": [
      " 85%|████████▍ | 5112/6048 [00:34<00:06, 149.33it/s]"
     ]
    },
    {
     "name": "stdout",
     "output_type": "stream",
     "text": [
      "data/chungcheong/train/DCNA20000086.json\n"
     ]
    },
    {
     "name": "stderr",
     "output_type": "stream",
     "text": [
      " 88%|████████▊ | 5345/6048 [00:36<00:05, 132.62it/s]"
     ]
    },
    {
     "name": "stdout",
     "output_type": "stream",
     "text": [
      "data/chungcheong/train/DCNA20000145.json\n"
     ]
    },
    {
     "name": "stderr",
     "output_type": "stream",
     "text": [
      "100%|██████████| 6048/6048 [00:41<00:00, 145.47it/s]\n",
      "  2%|▏         | 13/780 [00:00<00:06, 125.81it/s]"
     ]
    },
    {
     "name": "stdout",
     "output_type": "stream",
     "text": [
      "saved in data/chungcheong/train/train_data.tsv\n",
      "chungcheong test\n"
     ]
    },
    {
     "name": "stderr",
     "output_type": "stream",
     "text": [
      "100%|██████████| 780/780 [00:04<00:00, 169.04it/s]\n"
     ]
    },
    {
     "name": "stdout",
     "output_type": "stream",
     "text": [
      "saved in data/chungcheong/test/test_data.tsv\n"
     ]
    }
   ],
   "source": [
    "for r in regions:\n",
    "    for t in types:\n",
    "        files = glob.glob('data/{}/{}/*.json'.format(r,t))\n",
    "        print(r,t)\n",
    "        extract_df(files, r, t)"
   ]
  },
  {
   "cell_type": "markdown",
   "id": "9c66b021",
   "metadata": {},
   "source": [
    "## remove raw files"
   ]
  },
  {
   "cell_type": "code",
   "execution_count": 31,
   "id": "96970b30",
   "metadata": {},
   "outputs": [],
   "source": [
    "import os"
   ]
  },
  {
   "cell_type": "code",
   "execution_count": 32,
   "id": "e12662fa",
   "metadata": {},
   "outputs": [],
   "source": [
    "regions = ['chungcheong','jeju','jeonla','kangwon','kyeongsang']\n",
    "types= ['train','test']"
   ]
  },
  {
   "cell_type": "code",
   "execution_count": 33,
   "id": "afb91a58",
   "metadata": {},
   "outputs": [],
   "source": [
    "for r in regions:\n",
    "    for t in types:\n",
    "        for f in glob.glob('data/{}/{}/*.json'.format(r,t)):\n",
    "            os.remove(f)\n",
    "        for f in glob.glob('data/{}/{}/*.txt'.format(r,t)):\n",
    "            os.remove(f)"
   ]
  },
  {
   "cell_type": "code",
   "execution_count": null,
   "id": "ebc8081d",
   "metadata": {},
   "outputs": [],
   "source": []
  }
 ],
 "metadata": {
  "kernelspec": {
   "display_name": "Python 3",
   "language": "python",
   "name": "python3"
  },
  "language_info": {
   "codemirror_mode": {
    "name": "ipython",
    "version": 3
   },
   "file_extension": ".py",
   "mimetype": "text/x-python",
   "name": "python",
   "nbconvert_exporter": "python",
   "pygments_lexer": "ipython3",
   "version": "3.6.8"
  }
 },
 "nbformat": 4,
 "nbformat_minor": 5
}
